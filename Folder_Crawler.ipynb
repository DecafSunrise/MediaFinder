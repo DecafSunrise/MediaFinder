{
 "cells": [
  {
   "cell_type": "code",
   "execution_count": 71,
   "id": "042d7438",
   "metadata": {},
   "outputs": [],
   "source": [
    "import os\n",
    "import time\n",
    "import pandas as pd\n",
    "# from tqdm import tqdm\n",
    "from tqdm.notebook import trange, tqdm"
   ]
  },
  {
   "cell_type": "code",
   "execution_count": 46,
   "id": "cfe2cd4d",
   "metadata": {},
   "outputs": [],
   "source": [
    "def sizeof_fmt(num, suffix=\"B\"):\n",
    "    for unit in [\"\", \"Ki\", \"Mi\", \"Gi\", \"Ti\", \"Pi\", \"Ei\", \"Zi\"]:\n",
    "        if abs(num) < 1024.0:\n",
    "            return f\"{num:3.1f}{unit}{suffix}\"\n",
    "        num /= 1024.0\n",
    "    return f\"{num:.1f}Yi{suffix}\""
   ]
  },
  {
   "cell_type": "code",
   "execution_count": 78,
   "id": "012bf935",
   "metadata": {},
   "outputs": [],
   "source": [
    "def crawl_Folder(inputDir):\n",
    "    rows = []\n",
    "    errors = []\n",
    "    for root, dir_names, file_names in tqdm(os.walk(inputDir)):\n",
    "        for f in file_names:\n",
    "            try:\n",
    "                fname = os.path.join(root, f)\n",
    "    #             print()\n",
    "                rows.append([root, f, os.path.splitext(fname)[-1], time.strftime(\"%d-%b-%Y %H:%M:%S\", time.localtime(os.path.getmtime(fname))), sizeof_fmt(os.path.getsize(fname)), os.path.getsize(fname)])\n",
    "            except:\n",
    "                print(\"Error!:\\n\",root, dir_names,f)\n",
    "                pass\n",
    "            \n",
    "            \n",
    "    df = pd.DataFrame(rows, columns=[\"Directory\", \"Filename\", 'Extension', \"Last Modified Date\", \"Size\", \"Size (Bytes)\"])\n",
    "    return df"
   ]
  },
  {
   "cell_type": "code",
   "execution_count": 81,
   "id": "5a5b6faf",
   "metadata": {},
   "outputs": [
    {
     "data": {
      "application/vnd.jupyter.widget-view+json": {
       "model_id": "ad24fed0a1ed4d628ae6a47f2e2d70fd",
       "version_major": 2,
       "version_minor": 0
      },
      "text/plain": [
       "0it [00:00, ?it/s]"
      ]
     },
     "metadata": {},
     "output_type": "display_data"
    },
    {
     "data": {
      "text/html": [
       "<div>\n",
       "<style scoped>\n",
       "    .dataframe tbody tr th:only-of-type {\n",
       "        vertical-align: middle;\n",
       "    }\n",
       "\n",
       "    .dataframe tbody tr th {\n",
       "        vertical-align: top;\n",
       "    }\n",
       "\n",
       "    .dataframe thead th {\n",
       "        text-align: right;\n",
       "    }\n",
       "</style>\n",
       "<table border=\"1\" class=\"dataframe\">\n",
       "  <thead>\n",
       "    <tr style=\"text-align: right;\">\n",
       "      <th></th>\n",
       "      <th>Directory</th>\n",
       "      <th>Filename</th>\n",
       "      <th>Extension</th>\n",
       "      <th>Last Modified Date</th>\n",
       "      <th>Size</th>\n",
       "      <th>Size (Bytes)</th>\n",
       "    </tr>\n",
       "  </thead>\n",
       "  <tbody>\n",
       "  </tbody>\n",
       "</table>\n",
       "</div>"
      ],
      "text/plain": [
       "Empty DataFrame\n",
       "Columns: [Directory, Filename, Extension, Last Modified Date, Size, Size (Bytes)]\n",
       "Index: []"
      ]
     },
     "execution_count": 81,
     "metadata": {},
     "output_type": "execute_result"
    }
   ],
   "source": [
    "crawl_Folder(r\"Your_Folder_Here\")"
   ]
  },
  {
   "cell_type": "code",
   "execution_count": 69,
   "id": "2618dacb",
   "metadata": {},
   "outputs": [],
   "source": [
    "my_df.to_csv(\"Your_Path_Here.csv\", index=False)"
   ]
  },
  {
   "cell_type": "code",
   "execution_count": null,
   "id": "38addaff",
   "metadata": {},
   "outputs": [],
   "source": []
  }
 ],
 "metadata": {
  "kernelspec": {
   "display_name": "NLP",
   "language": "python",
   "name": "nlp"
  },
  "language_info": {
   "codemirror_mode": {
    "name": "ipython",
    "version": 3
   },
   "file_extension": ".py",
   "mimetype": "text/x-python",
   "name": "python",
   "nbconvert_exporter": "python",
   "pygments_lexer": "ipython3",
   "version": "3.8.11"
  }
 },
 "nbformat": 4,
 "nbformat_minor": 5
}
